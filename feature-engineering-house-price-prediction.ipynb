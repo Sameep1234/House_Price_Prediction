{
 "cells": [
  {
   "cell_type": "markdown",
   "id": "9638c7b0",
   "metadata": {
    "papermill": {
     "duration": 0.025551,
     "end_time": "2022-02-01T04:59:45.053055",
     "exception": false,
     "start_time": "2022-02-01T04:59:45.027504",
     "status": "completed"
    },
    "tags": []
   },
   "source": [
    "# Lifecycle\n",
    "* This notebook implements the second part of lifecycle process i.e Feature Engineering.\n",
    "* Following is the list of lifecycle processes.\n",
    "    * Data Analysis or EDA\n",
    "    * **Feature Engineering** (Content of this notebook)\n",
    "    * Feature Selection\n",
    "    * Pipelining\n",
    "    * Model Selection and Building\n",
    "    * Model Deployment\n",
    "* All these are performed on a very famous kaggle competition known as House Price Prediction."
   ]
  },
  {
   "cell_type": "markdown",
   "id": "528758a7",
   "metadata": {
    "papermill": {
     "duration": 0.025201,
     "end_time": "2022-02-01T04:59:45.104230",
     "exception": false,
     "start_time": "2022-02-01T04:59:45.079029",
     "status": "completed"
    },
    "tags": []
   },
   "source": [
    "# Feature Engineering\n",
    "* This is the second step after Exploratory Data Analysis.\n",
    "* Check out my notebook on Exploratory Data Analysis for the House Price Prediction competition.\n",
    "* Now, let's continue with feature engineering\n",
    "\n",
    "## Definition\n",
    "* It is the process selecting, manipulating and transforming raw data into features that can be used in supervised learning.\n",
    "* This also includes adding of some new features (if necessary) derived from combination of two or more features.\n",
    "\n",
    "## What will we consider in this notebook?\n",
    "* Handling Missing Values\n",
    "    * Numerical\n",
    "    * Categorical\n",
    "* Handling Temporal Variable\n",
    "* Handling Outliers\n",
    "* Removing rare labels\n",
    "* Performing Encoding for categorical features.\n",
    "* Log transforming (If necessary)\n",
    "* Standardizing the values (If necessary).\n",
    "* Note that after some tinkering, both these steps are not needed because we might be using Tree based model and they are not affected by the distributions and scaling. \n",
    "\n",
    "> Since this step will be performed for both trainig as well as test set, it is better to define functions for it."
   ]
  },
  {
   "cell_type": "code",
   "execution_count": 1,
   "id": "d29eddb4",
   "metadata": {
    "execution": {
     "iopub.execute_input": "2022-02-01T04:59:45.171427Z",
     "iopub.status.busy": "2022-02-01T04:59:45.170577Z",
     "iopub.status.idle": "2022-02-01T04:59:46.183597Z",
     "shell.execute_reply": "2022-02-01T04:59:46.184183Z",
     "shell.execute_reply.started": "2022-02-01T04:43:22.314555Z"
    },
    "papermill": {
     "duration": 1.05295,
     "end_time": "2022-02-01T04:59:46.184489",
     "exception": false,
     "start_time": "2022-02-01T04:59:45.131539",
     "status": "completed"
    },
    "tags": []
   },
   "outputs": [],
   "source": [
    "# Import the necessary libraries\n",
    "import pandas as pd\n",
    "import numpy as np\n",
    "import seaborn as sns\n",
    "import matplotlib\n",
    "import matplotlib.pyplot as plt"
   ]
  },
  {
   "cell_type": "code",
   "execution_count": 2,
   "id": "e11a535d",
   "metadata": {
    "execution": {
     "iopub.execute_input": "2022-02-01T04:59:46.237199Z",
     "iopub.status.busy": "2022-02-01T04:59:46.236486Z",
     "iopub.status.idle": "2022-02-01T04:59:46.316850Z",
     "shell.execute_reply": "2022-02-01T04:59:46.317498Z",
     "shell.execute_reply.started": "2022-02-01T04:43:22.780975Z"
    },
    "papermill": {
     "duration": 0.108523,
     "end_time": "2022-02-01T04:59:46.317724",
     "exception": false,
     "start_time": "2022-02-01T04:59:46.209201",
     "status": "completed"
    },
    "tags": []
   },
   "outputs": [],
   "source": [
    "# Read the Dataset\n",
    "X_train = pd.read_csv(\"../input/home-data-for-ml-course/train.csv\")\n",
    "X_test = pd.read_csv(\"../input/home-data-for-ml-course/test.csv\")"
   ]
  },
  {
   "cell_type": "code",
   "execution_count": 3,
   "id": "24cf5fb4",
   "metadata": {
    "execution": {
     "iopub.execute_input": "2022-02-01T04:59:46.370460Z",
     "iopub.status.busy": "2022-02-01T04:59:46.369821Z",
     "iopub.status.idle": "2022-02-01T04:59:46.375013Z",
     "shell.execute_reply": "2022-02-01T04:59:46.375584Z",
     "shell.execute_reply.started": "2022-02-01T04:43:22.839984Z"
    },
    "papermill": {
     "duration": 0.033169,
     "end_time": "2022-02-01T04:59:46.375760",
     "exception": false,
     "start_time": "2022-02-01T04:59:46.342591",
     "status": "completed"
    },
    "tags": []
   },
   "outputs": [],
   "source": [
    "# Create a copy to ensure that we have a backup\n",
    "X_train_original = X_train.copy()\n",
    "X_test_original = X_test.copy()"
   ]
  },
  {
   "cell_type": "code",
   "execution_count": 4,
   "id": "3c43d046",
   "metadata": {
    "execution": {
     "iopub.execute_input": "2022-02-01T04:59:46.427339Z",
     "iopub.status.busy": "2022-02-01T04:59:46.426734Z",
     "iopub.status.idle": "2022-02-01T04:59:46.439746Z",
     "shell.execute_reply": "2022-02-01T04:59:46.440271Z",
     "shell.execute_reply.started": "2022-02-01T04:43:22.85075Z"
    },
    "papermill": {
     "duration": 0.040453,
     "end_time": "2022-02-01T04:59:46.440440",
     "exception": false,
     "start_time": "2022-02-01T04:59:46.399987",
     "status": "completed"
    },
    "tags": []
   },
   "outputs": [],
   "source": [
    "# Drop the id columns for training data\n",
    "X_train = X_train.drop(\"Id\", axis = 1)"
   ]
  },
  {
   "cell_type": "markdown",
   "id": "3e7fb0fa",
   "metadata": {
    "papermill": {
     "duration": 0.023871,
     "end_time": "2022-02-01T04:59:46.488801",
     "exception": false,
     "start_time": "2022-02-01T04:59:46.464930",
     "status": "completed"
    },
    "tags": []
   },
   "source": [
    "* Seperate numerical and categorical features\n",
    "* Further seperate numerical features into continuous and discrete features."
   ]
  },
  {
   "cell_type": "code",
   "execution_count": 5,
   "id": "5f50d6af",
   "metadata": {
    "execution": {
     "iopub.execute_input": "2022-02-01T04:59:46.542127Z",
     "iopub.status.busy": "2022-02-01T04:59:46.541484Z",
     "iopub.status.idle": "2022-02-01T04:59:46.560158Z",
     "shell.execute_reply": "2022-02-01T04:59:46.560696Z",
     "shell.execute_reply.started": "2022-02-01T04:43:22.867216Z"
    },
    "papermill": {
     "duration": 0.04764,
     "end_time": "2022-02-01T04:59:46.560870",
     "exception": false,
     "start_time": "2022-02-01T04:59:46.513230",
     "status": "completed"
    },
    "tags": []
   },
   "outputs": [],
   "source": [
    "continuous_features = []\n",
    "discrete_features = []\n",
    "numerical_features = []\n",
    "categorical_features = []\n",
    "\n",
    "for feature in X_train.columns:\n",
    "    if X_train[feature].dtypes == 'O': # If the datatype is object then it is categorical feature\n",
    "        categorical_features.append(feature)\n",
    "    else:\n",
    "        numerical_features.append(feature)\n",
    "        if X_train[feature].unique().sum() <= 15: # This threshold is derived from EDA notebook that I published.\n",
    "            discrete_features.append(feature)\n",
    "        else:\n",
    "            continuous_features.append(feature)"
   ]
  },
  {
   "cell_type": "markdown",
   "id": "eee0a1fd",
   "metadata": {
    "papermill": {
     "duration": 0.023917,
     "end_time": "2022-02-01T04:59:46.609191",
     "exception": false,
     "start_time": "2022-02-01T04:59:46.585274",
     "status": "completed"
    },
    "tags": []
   },
   "source": [
    "# Handling Missing Values\n",
    "* There are two types of features, one is categorical and one is numerical and the method of handling both of these are different.\n",
    "* Categorical Features\n",
    "    * Remove the missing values --> This is a good approach if the number of missing values is very less (<5%) but if the number of missing values are in large amounts (>50%), then this method might fail and give results with high bias.\n",
    "    * Replace the missing values with mode of the data --> Mode of the data means the observation that occurs maximum number of times. For categorical feature, replacing missing value with mode makes sense because one can't find mean or median or any other statistical measure for it.\n",
    "    * Replace the missing values with a new label \"others\" --> This, in my opinion, is the best approach as not only it helps to retain the information but creates a new better variable which might affect the SalePrice as seen in EDA Section.\n",
    "* Numerical Features\n",
    "    * For discrete features, replacing the missing values with mode is the best option for obvious reasons.\n",
    "    * For continuous features\n",
    "        * Remove the records containing missing values --> This step must be done very carefully as it might result into loss of important information.\n",
    "        * Replace the missing values with mean --> This is one of the most common steps done. However, there is a problem associated with it. Sometimes, the mean is biased in terms of outliers. They greatly influence the mean and hence this might now be a wise choice if we detect the presence of outliers in EDA part.\n",
    "        * Replace the missing values with median --> This is the best approach because the median is not affected by outliers. Further, median represents 50th Percentile which means 50% values are above and below that point.\n",
    "        * Replace the missing values with mode"
   ]
  },
  {
   "cell_type": "code",
   "execution_count": 6,
   "id": "ba86f2ca",
   "metadata": {
    "execution": {
     "iopub.execute_input": "2022-02-01T04:59:46.661638Z",
     "iopub.status.busy": "2022-02-01T04:59:46.661000Z",
     "iopub.status.idle": "2022-02-01T04:59:46.703674Z",
     "shell.execute_reply": "2022-02-01T04:59:46.703104Z",
     "shell.execute_reply.started": "2022-02-01T04:43:22.887953Z"
    },
    "papermill": {
     "duration": 0.069611,
     "end_time": "2022-02-01T04:59:46.703826",
     "exception": false,
     "start_time": "2022-02-01T04:59:46.634215",
     "status": "completed"
    },
    "tags": []
   },
   "outputs": [],
   "source": [
    "# Get numerical and categorical features with NaN Values\n",
    "numerical_features_with_null_values = []\n",
    "categorical_features_with_null_values = []\n",
    "\n",
    "for feature in X_train.columns:\n",
    "    if X_train[feature].isna().sum() > 0 and feature in numerical_features:\n",
    "        numerical_features_with_null_values.append(feature)\n",
    "    \n",
    "    if X_train[feature].isna().sum() > 0 and feature in categorical_features:\n",
    "        categorical_features_with_null_values.append(feature)"
   ]
  },
  {
   "cell_type": "code",
   "execution_count": 7,
   "id": "91ad5550",
   "metadata": {
    "execution": {
     "iopub.execute_input": "2022-02-01T04:59:46.757196Z",
     "iopub.status.busy": "2022-02-01T04:59:46.756562Z",
     "iopub.status.idle": "2022-02-01T04:59:46.761531Z",
     "shell.execute_reply": "2022-02-01T04:59:46.761990Z",
     "shell.execute_reply.started": "2022-02-01T04:43:22.9399Z"
    },
    "papermill": {
     "duration": 0.033793,
     "end_time": "2022-02-01T04:59:46.762168",
     "exception": false,
     "start_time": "2022-02-01T04:59:46.728375",
     "status": "completed"
    },
    "tags": []
   },
   "outputs": [],
   "source": [
    "def handle_missing_values(X):\n",
    "    # Numerical Features\n",
    "    for feature in numerical_features_with_null_values:\n",
    "        if feature != \"SalePrice\":\n",
    "            X[feature].fillna(X[feature].median(), inplace=True)\n",
    "        # We choose median because of outliers\n",
    "        \n",
    "    # Categorical Features\n",
    "    for feature in categorical_features_with_null_values:\n",
    "        X[feature].fillna(\"Others\", inplace=True)\n",
    "    \n",
    "    return X"
   ]
  },
  {
   "cell_type": "code",
   "execution_count": 8,
   "id": "2e23f37d",
   "metadata": {
    "execution": {
     "iopub.execute_input": "2022-02-01T04:59:46.823418Z",
     "iopub.status.busy": "2022-02-01T04:59:46.822731Z",
     "iopub.status.idle": "2022-02-01T04:59:46.826761Z",
     "shell.execute_reply": "2022-02-01T04:59:46.827272Z",
     "shell.execute_reply.started": "2022-02-01T04:43:22.957486Z"
    },
    "papermill": {
     "duration": 0.040611,
     "end_time": "2022-02-01T04:59:46.827444",
     "exception": false,
     "start_time": "2022-02-01T04:59:46.786833",
     "status": "completed"
    },
    "tags": []
   },
   "outputs": [],
   "source": [
    "X_train = handle_missing_values(X_train) # Call the function"
   ]
  },
  {
   "cell_type": "code",
   "execution_count": 9,
   "id": "8cbe7e66",
   "metadata": {
    "execution": {
     "iopub.execute_input": "2022-02-01T04:59:46.879691Z",
     "iopub.status.busy": "2022-02-01T04:59:46.878939Z",
     "iopub.status.idle": "2022-02-01T04:59:48.412724Z",
     "shell.execute_reply": "2022-02-01T04:59:48.413235Z",
     "shell.execute_reply.started": "2022-02-01T04:43:22.979753Z"
    },
    "papermill": {
     "duration": 1.561631,
     "end_time": "2022-02-01T04:59:48.413412",
     "exception": false,
     "start_time": "2022-02-01T04:59:46.851781",
     "status": "completed"
    },
    "tags": []
   },
   "outputs": [
    {
     "data": {
      "image/png": "[encoded data removed]",
      "text/plain": [
       "<Figure size 1440x504 with 2 Axes>"
      ]
     },
     "metadata": {
      "needs_background": "light"
     },
     "output_type": "display_data"
    }
   ],
   "source": [
    "# Verify that there are no missing values\n",
    "plt.figure(figsize=(20, 7))\n",
    "sns.heatmap(X_train.isnull(), yticklabels=False)\n",
    "plt.title(\"Checking missing value\")\n",
    "plt.show()"
   ]
  },
  {
   "cell_type": "markdown",
   "id": "bc6841d6",
   "metadata": {
    "papermill": {
     "duration": 0.02628,
     "end_time": "2022-02-01T04:59:48.467874",
     "exception": false,
     "start_time": "2022-02-01T04:59:48.441594",
     "status": "completed"
    },
    "tags": []
   },
   "source": [
    "### Interpretation\n",
    "* From the above heatmap, it is clear that there are no missing values remaining in any of the columns."
   ]
  },
  {
   "cell_type": "markdown",
   "id": "7bb5c755",
   "metadata": {
    "papermill": {
     "duration": 0.026538,
     "end_time": "2022-02-01T04:59:48.520816",
     "exception": false,
     "start_time": "2022-02-01T04:59:48.494278",
     "status": "completed"
    },
    "tags": []
   },
   "source": [
    "# Handling Temporal Variables\n",
    "* The best way to handle temporal variable is to convert it into \"age\".\n",
    "* This means that suppose a building was built in 2000 and was sold in 2010, then its age is 10 years.\n",
    "* This goes for all temporal features."
   ]
  },
  {
   "cell_type": "code",
   "execution_count": 10,
   "id": "cc654495",
   "metadata": {
    "execution": {
     "iopub.execute_input": "2022-02-01T04:59:48.576771Z",
     "iopub.status.busy": "2022-02-01T04:59:48.576135Z",
     "iopub.status.idle": "2022-02-01T04:59:48.580430Z",
     "shell.execute_reply": "2022-02-01T04:59:48.580947Z",
     "shell.execute_reply.started": "2022-02-01T04:43:24.492785Z"
    },
    "papermill": {
     "duration": 0.034012,
     "end_time": "2022-02-01T04:59:48.581127",
     "exception": false,
     "start_time": "2022-02-01T04:59:48.547115",
     "status": "completed"
    },
    "tags": []
   },
   "outputs": [],
   "source": [
    "# Create array for temporal variables\n",
    "feature_with_year = []\n",
    "\n",
    "for feature in X_train.columns:\n",
    "    if \"Yr\" in feature or \"Year\" in feature:\n",
    "        feature_with_year.append(feature)"
   ]
  },
  {
   "cell_type": "code",
   "execution_count": 11,
   "id": "701eb5c2",
   "metadata": {
    "execution": {
     "iopub.execute_input": "2022-02-01T04:59:48.637482Z",
     "iopub.status.busy": "2022-02-01T04:59:48.636831Z",
     "iopub.status.idle": "2022-02-01T04:59:48.641455Z",
     "shell.execute_reply": "2022-02-01T04:59:48.640942Z",
     "shell.execute_reply.started": "2022-02-01T04:43:24.498914Z"
    },
    "papermill": {
     "duration": 0.033864,
     "end_time": "2022-02-01T04:59:48.641630",
     "exception": false,
     "start_time": "2022-02-01T04:59:48.607766",
     "status": "completed"
    },
    "tags": []
   },
   "outputs": [],
   "source": [
    "# For temporal variables, we will change years to \"age\" meaning how many years old.\n",
    "def handle_temporal_variable(X):    \n",
    "    for feature in feature_with_year:\n",
    "        if feature != \"YrSold\":\n",
    "            X[feature] = X[\"YrSold\"] - X[feature]\n",
    "    return X"
   ]
  },
  {
   "cell_type": "code",
   "execution_count": 12,
   "id": "bdee3b4e",
   "metadata": {
    "execution": {
     "iopub.execute_input": "2022-02-01T04:59:48.698622Z",
     "iopub.status.busy": "2022-02-01T04:59:48.697925Z",
     "iopub.status.idle": "2022-02-01T04:59:48.702231Z",
     "shell.execute_reply": "2022-02-01T04:59:48.703000Z",
     "shell.execute_reply.started": "2022-02-01T04:43:24.51423Z"
    },
    "papermill": {
     "duration": 0.034854,
     "end_time": "2022-02-01T04:59:48.703188",
     "exception": false,
     "start_time": "2022-02-01T04:59:48.668334",
     "status": "completed"
    },
    "tags": []
   },
   "outputs": [],
   "source": [
    "X_train = handle_temporal_variable(X_train) # Handled Temporal Variables"
   ]
  },
  {
   "cell_type": "markdown",
   "id": "398ef4cc",
   "metadata": {
    "papermill": {
     "duration": 0.026244,
     "end_time": "2022-02-01T04:59:48.755923",
     "exception": false,
     "start_time": "2022-02-01T04:59:48.729679",
     "status": "completed"
    },
    "tags": []
   },
   "source": [
    "# Handling Outliers\n",
    "* This is the hardest part because of the fact that finding the range beyond which an observation is considered outlier.\n",
    "* However, a very beautiful article ([link](https://medium.com/analytics-vidhya/how-to-handle-outliers-in-machine-learning-5d8105c708e5#:~:text=To%20impute%20the%20outliers%2C%20we,%2C%20mode%2C%20and%20boundary%20values.&text=Congratulations%20on%20learning%20how%20to,Feature%20Engineering%20on%20the%20data.)) explains it very easily.\n",
    "* Since, we have not yet transformed the data, the we are using 1.5*IQR (Inter Quartile Range) as the threshold."
   ]
  },
  {
   "cell_type": "code",
   "execution_count": 13,
   "id": "a8895efe",
   "metadata": {
    "execution": {
     "iopub.execute_input": "2022-02-01T04:59:48.812969Z",
     "iopub.status.busy": "2022-02-01T04:59:48.812252Z",
     "iopub.status.idle": "2022-02-01T04:59:48.819376Z",
     "shell.execute_reply": "2022-02-01T04:59:48.819955Z",
     "shell.execute_reply.started": "2022-02-01T04:43:24.530666Z"
    },
    "papermill": {
     "duration": 0.037219,
     "end_time": "2022-02-01T04:59:48.820129",
     "exception": false,
     "start_time": "2022-02-01T04:59:48.782910",
     "status": "completed"
    },
    "tags": []
   },
   "outputs": [],
   "source": [
    "def handle_outliers(X):\n",
    "    for feature in X.columns:\n",
    "        if X[feature].dtypes != \"O\":\n",
    "            q1 = np.percentile(X[feature], 25, interpolation='midpoint')\n",
    "            median = np.percentile(X[feature], 50, interpolation='midpoint')\n",
    "            q3 = np.percentile(X[feature], 75, interpolation='midpoint')\n",
    "            iqr = q3 - q1\n",
    "            \n",
    "            upper_limit = (q3 + 1.5*iqr)\n",
    "            lower_limit = (q1 - 1.5*iqr)\n",
    "            \n",
    "            X[feature] = np.where(X[feature] > upper_limit, median, X[feature])\n",
    "            X[feature] = np.where(X[feature] < lower_limit, median, X[feature])\n",
    "        \n",
    "    return X"
   ]
  },
  {
   "cell_type": "code",
   "execution_count": 14,
   "id": "778428b1",
   "metadata": {
    "execution": {
     "iopub.execute_input": "2022-02-01T04:59:48.875697Z",
     "iopub.status.busy": "2022-02-01T04:59:48.875010Z",
     "iopub.status.idle": "2022-02-01T04:59:48.931841Z",
     "shell.execute_reply": "2022-02-01T04:59:48.931253Z",
     "shell.execute_reply.started": "2022-02-01T04:43:24.545207Z"
    },
    "papermill": {
     "duration": 0.085637,
     "end_time": "2022-02-01T04:59:48.932012",
     "exception": false,
     "start_time": "2022-02-01T04:59:48.846375",
     "status": "completed"
    },
    "tags": []
   },
   "outputs": [],
   "source": [
    "X_train = handle_outliers(X_train)"
   ]
  },
  {
   "cell_type": "markdown",
   "id": "41b92c29",
   "metadata": {
    "papermill": {
     "duration": 0.026463,
     "end_time": "2022-02-01T04:59:48.985314",
     "exception": false,
     "start_time": "2022-02-01T04:59:48.958851",
     "status": "completed"
    },
    "tags": []
   },
   "source": [
    "# Handling Rare Records for Categorical Features\n",
    "* I consider \"Rare\" classes for a categorical feature as those classes whose frequency of occurence is less than 1%.\n",
    "* We can combine these features into a new label called \"Others_R\" without the loss of much information and we might get some unexpected improvement in our model."
   ]
  },
  {
   "cell_type": "code",
   "execution_count": 15,
   "id": "b1cd565d",
   "metadata": {
    "execution": {
     "iopub.execute_input": "2022-02-01T04:59:49.046353Z",
     "iopub.status.busy": "2022-02-01T04:59:49.045645Z",
     "iopub.status.idle": "2022-02-01T04:59:49.047323Z",
     "shell.execute_reply": "2022-02-01T04:59:49.047940Z",
     "shell.execute_reply.started": "2022-02-01T04:43:24.612248Z"
    },
    "papermill": {
     "duration": 0.036113,
     "end_time": "2022-02-01T04:59:49.048112",
     "exception": false,
     "start_time": "2022-02-01T04:59:49.011999",
     "status": "completed"
    },
    "tags": []
   },
   "outputs": [],
   "source": [
    "def handle_rare_classes(X):\n",
    "    for feature in categorical_features:\n",
    "        feature_percentage = X.groupby(feature)[\"SalePrice\"].count()*100/len(X)\n",
    "        feature_less_than_1 = feature_percentage[feature_percentage<1].index\n",
    "        X[feature] = np.where(X[feature].isin(feature_less_than_1), \"Others_R\", X[feature])\n",
    "    return X"
   ]
  },
  {
   "cell_type": "code",
   "execution_count": 16,
   "id": "a8d7987a",
   "metadata": {
    "execution": {
     "iopub.execute_input": "2022-02-01T04:59:49.104727Z",
     "iopub.status.busy": "2022-02-01T04:59:49.104042Z",
     "iopub.status.idle": "2022-02-01T04:59:49.182469Z",
     "shell.execute_reply": "2022-02-01T04:59:49.181931Z",
     "shell.execute_reply.started": "2022-02-01T04:43:24.618874Z"
    },
    "papermill": {
     "duration": 0.108156,
     "end_time": "2022-02-01T04:59:49.182644",
     "exception": false,
     "start_time": "2022-02-01T04:59:49.074488",
     "status": "completed"
    },
    "tags": []
   },
   "outputs": [],
   "source": [
    "X_train = handle_rare_classes(X_train)"
   ]
  },
  {
   "cell_type": "markdown",
   "id": "e71171b5",
   "metadata": {
    "papermill": {
     "duration": 0.025942,
     "end_time": "2022-02-01T04:59:49.234984",
     "exception": false,
     "start_time": "2022-02-01T04:59:49.209042",
     "status": "completed"
    },
    "tags": []
   },
   "source": [
    "# Performing Encoding for Categorical Features\n",
    "* Most of the models expect a numerical imput in order to train itself and predict for the test data.\n",
    "* Thus, it makes a requirement for converting the categorical feature into Numercial one.\n",
    "* One can do this by \"encoding\" categorical features\n",
    "* For further reference, read [this article](https://towardsdatascience.com/categorical-feature-encoding-547707acf4e5#:~:text=6.-,Label%20Encoding%20and%20Ordinal%20Encoding,unique%20value%20in%20a%20feature.).\n",
    "\n",
    "## Types of encoders\n",
    "* One-Hot encoding\n",
    "    * Created new columns for each class and assigns them either 0 or 1.\n",
    "    * Further, it ensures that exactly 1 of the columns have 1 for each observation.\n",
    "    * This helps in representing the classes required.\n",
    "* Label Encoding\n",
    "    * Unlike one-hot encoding, it does not add a column, instead it assigns each class with a number.\n",
    "* Target Encoding\n",
    "    * Aligns unique categorical values with the target feature based on the average relationships.\n",
    "    * So basically, we assign each label its mean of the target variables.\n",
    "* **Note that here we will be using label encoding.**"
   ]
  },
  {
   "cell_type": "code",
   "execution_count": 17,
   "id": "07d0bb75",
   "metadata": {
    "execution": {
     "iopub.execute_input": "2022-02-01T04:59:49.290527Z",
     "iopub.status.busy": "2022-02-01T04:59:49.289894Z",
     "iopub.status.idle": "2022-02-01T04:59:49.487356Z",
     "shell.execute_reply": "2022-02-01T04:59:49.487980Z",
     "shell.execute_reply.started": "2022-02-01T04:43:24.703403Z"
    },
    "papermill": {
     "duration": 0.226981,
     "end_time": "2022-02-01T04:59:49.488169",
     "exception": false,
     "start_time": "2022-02-01T04:59:49.261188",
     "status": "completed"
    },
    "tags": []
   },
   "outputs": [
    {
     "name": "stdout",
     "output_type": "stream",
     "text": [
      "<class 'pandas.core.frame.DataFrame'>\n",
      "RangeIndex: 1460 entries, 0 to 1459\n",
      "Data columns (total 80 columns):\n",
      " #   Column         Non-Null Count  Dtype  \n",
      "---  ------         --------------  -----  \n",
      " 0   MSSubClass     1460 non-null   float64\n",
      " 1   MSZoning       1460 non-null   float64\n",
      " 2   LotFrontage    1460 non-null   float64\n",
      " 3   LotArea        1460 non-null   float64\n",
      " 4   Street         1460 non-null   float64\n",
      " 5   Alley          1460 non-null   float64\n",
      " 6   LotShape       1460 non-null   float64\n",
      " 7   LandContour    1460 non-null   float64\n",
      " 8   Utilities      1460 non-null   float64\n",
      " 9   LotConfig      1460 non-null   float64\n",
      " 10  LandSlope      1460 non-null   float64\n",
      " 11  Neighborhood   1460 non-null   float64\n",
      " 12  Condition1     1460 non-null   float64\n",
      " 13  Condition2     1460 non-null   float64\n",
      " 14  BldgType       1460 non-null   float64\n",
      " 15  HouseStyle     1460 non-null   float64\n",
      " 16  OverallQual    1460 non-null   float64\n",
      " 17  OverallCond    1460 non-null   float64\n",
      " 18  YearBuilt      1460 non-null   float64\n",
      " 19  YearRemodAdd   1460 non-null   float64\n",
      " 20  RoofStyle      1460 non-null   float64\n",
      " 21  RoofMatl       1460 non-null   float64\n",
      " 22  Exterior1st    1460 non-null   float64\n",
      " 23  Exterior2nd    1460 non-null   float64\n",
      " 24  MasVnrType     1460 non-null   float64\n",
      " 25  MasVnrArea     1460 non-null   float64\n",
      " 26  ExterQual      1460 non-null   float64\n",
      " 27  ExterCond      1460 non-null   float64\n",
      " 28  Foundation     1460 non-null   float64\n",
      " 29  BsmtQual       1460 non-null   float64\n",
      " 30  BsmtCond       1460 non-null   float64\n",
      " 31  BsmtExposure   1460 non-null   float64\n",
      " 32  BsmtFinType1   1460 non-null   float64\n",
      " 33  BsmtFinSF1     1460 non-null   float64\n",
      " 34  BsmtFinType2   1460 non-null   float64\n",
      " 35  BsmtFinSF2     1460 non-null   float64\n",
      " 36  BsmtUnfSF      1460 non-null   float64\n",
      " 37  TotalBsmtSF    1460 non-null   float64\n",
      " 38  Heating        1460 non-null   float64\n",
      " 39  HeatingQC      1460 non-null   float64\n",
      " 40  CentralAir     1460 non-null   float64\n",
      " 41  Electrical     1460 non-null   float64\n",
      " 42  1stFlrSF       1460 non-null   float64\n",
      " 43  2ndFlrSF       1460 non-null   float64\n",
      " 44  LowQualFinSF   1460 non-null   float64\n",
      " 45  GrLivArea      1460 non-null   float64\n",
      " 46  BsmtFullBath   1460 non-null   float64\n",
      " 47  BsmtHalfBath   1460 non-null   float64\n",
      " 48  FullBath       1460 non-null   float64\n",
      " 49  HalfBath       1460 non-null   float64\n",
      " 50  BedroomAbvGr   1460 non-null   float64\n",
      " 51  KitchenAbvGr   1460 non-null   float64\n",
      " 52  KitchenQual    1460 non-null   float64\n",
      " 53  TotRmsAbvGrd   1460 non-null   float64\n",
      " 54  Functional     1460 non-null   float64\n",
      " 55  Fireplaces     1460 non-null   float64\n",
      " 56  FireplaceQu    1460 non-null   float64\n",
      " 57  GarageType     1460 non-null   float64\n",
      " 58  GarageYrBlt    1460 non-null   float64\n",
      " 59  GarageFinish   1460 non-null   float64\n",
      " 60  GarageCars     1460 non-null   float64\n",
      " 61  GarageArea     1460 non-null   float64\n",
      " 62  GarageQual     1460 non-null   float64\n",
      " 63  GarageCond     1460 non-null   float64\n",
      " 64  PavedDrive     1460 non-null   float64\n",
      " 65  WoodDeckSF     1460 non-null   float64\n",
      " 66  OpenPorchSF    1460 non-null   float64\n",
      " 67  EnclosedPorch  1460 non-null   float64\n",
      " 68  3SsnPorch      1460 non-null   float64\n",
      " 69  ScreenPorch    1460 non-null   float64\n",
      " 70  PoolArea       1460 non-null   float64\n",
      " 71  PoolQC         1460 non-null   float64\n",
      " 72  Fence          1460 non-null   float64\n",
      " 73  MiscFeature    1460 non-null   float64\n",
      " 74  MiscVal        1460 non-null   float64\n",
      " 75  MoSold         1460 non-null   float64\n",
      " 76  YrSold         1460 non-null   float64\n",
      " 77  SaleType       1460 non-null   float64\n",
      " 78  SaleCondition  1460 non-null   float64\n",
      " 79  SalePrice      1460 non-null   float64\n",
      "dtypes: float64(80)\n",
      "memory usage: 912.6 KB\n"
     ]
    }
   ],
   "source": [
    "from sklearn.preprocessing import LabelEncoder\n",
    "\n",
    "encoder = LabelEncoder()\n",
    "for feature in categorical_features:\n",
    "    X_train[feature] = encoder.fit_transform(X_train[feature])\n",
    "    \n",
    "# Convert each feature into float64 type\n",
    "X_train = X_train.astype(\"float64\")\n",
    "\n",
    "# Easiest way to check whether any is left of not is to use info()\n",
    "X_train.info()"
   ]
  },
  {
   "cell_type": "markdown",
   "id": "34117b8b",
   "metadata": {
    "papermill": {
     "duration": 0.026503,
     "end_time": "2022-02-01T04:59:49.542046",
     "exception": false,
     "start_time": "2022-02-01T04:59:49.515543",
     "status": "completed"
    },
    "tags": []
   },
   "source": [
    "# Checkpoint\n",
    "* We have handled almost all types of datatypes.\n",
    "* These include numerical (discrete and continuous), categorical and temporal features.\n",
    "* Then we have handled outliers and after handling missing values.\n",
    "* Further, we have combined rare labels and created a new label called \"Others_R\"\n",
    "* At this point, we have **preprocessed** the data to an extent that any model can generate the results.\n",
    "* However, the work of feature engineering is not yet over.\n",
    "* We may still scale and transform the data to make it more ideal and align it to a particular distribution (like Gaussian/Normal distribution).\n",
    "* This helps for the model to improve its performance and in turn its accuracy."
   ]
  },
  {
   "cell_type": "markdown",
   "id": "50e0a787",
   "metadata": {
    "papermill": {
     "duration": 0.026693,
     "end_time": "2022-02-01T04:59:49.595906",
     "exception": false,
     "start_time": "2022-02-01T04:59:49.569213",
     "status": "completed"
    },
    "tags": []
   },
   "source": [
    "# Log-Transform the data\n",
    "* Follow [this article](https://towardsdatascience.com/logarithms-what-why-and-how-ff9d050d3fd7) to understand the know hte basics of log transform.\n",
    "* After understanding what is it and what it does, the main question is what are the features on which log transformation needs to be applied or how to select the features for log-transformation.\n",
    "* We select those features that are right skewed as the features that require log transformation.\n",
    "* We further make sure that we don't select those features that have either bimodal or multimodal distribution.\n",
    "* These are selected based on EDA done previously."
   ]
  },
  {
   "cell_type": "code",
   "execution_count": 18,
   "id": "beaee952",
   "metadata": {
    "execution": {
     "iopub.execute_input": "2022-02-01T04:59:49.653714Z",
     "iopub.status.busy": "2022-02-01T04:59:49.652696Z",
     "iopub.status.idle": "2022-02-01T04:59:49.657725Z",
     "shell.execute_reply": "2022-02-01T04:59:49.658266Z",
     "shell.execute_reply.started": "2022-02-01T04:43:24.815876Z"
    },
    "papermill": {
     "duration": 0.035667,
     "end_time": "2022-02-01T04:59:49.658431",
     "exception": false,
     "start_time": "2022-02-01T04:59:49.622764",
     "status": "completed"
    },
    "tags": []
   },
   "outputs": [],
   "source": [
    "# Selected features\n",
    "feature_for_log_transform = ['LotFrontage', \"LotArea\", \"1stFlrSF\", \"GrLivArea\"]\n",
    "\n",
    "# Function to handle\n",
    "def log_transform(X):\n",
    "    for feature in feature_for_log_transform:\n",
    "        X[feature] = np.log1p(X[feature])\n",
    "    return X"
   ]
  },
  {
   "cell_type": "code",
   "execution_count": 19,
   "id": "27106f32",
   "metadata": {
    "execution": {
     "iopub.execute_input": "2022-02-01T04:59:49.717058Z",
     "iopub.status.busy": "2022-02-01T04:59:49.716137Z",
     "iopub.status.idle": "2022-02-01T04:59:49.721619Z",
     "shell.execute_reply": "2022-02-01T04:59:49.722143Z",
     "shell.execute_reply.started": "2022-02-01T04:43:24.82334Z"
    },
    "papermill": {
     "duration": 0.036014,
     "end_time": "2022-02-01T04:59:49.722320",
     "exception": false,
     "start_time": "2022-02-01T04:59:49.686306",
     "status": "completed"
    },
    "tags": []
   },
   "outputs": [],
   "source": [
    "X_train = log_transform(X_train)"
   ]
  },
  {
   "cell_type": "markdown",
   "id": "03d91e48",
   "metadata": {
    "papermill": {
     "duration": 0.026719,
     "end_time": "2022-02-01T04:59:49.776072",
     "exception": false,
     "start_time": "2022-02-01T04:59:49.749353",
     "status": "completed"
    },
    "tags": []
   },
   "source": [
    "# Standardizing features"
   ]
  },
  {
   "cell_type": "code",
   "execution_count": 20,
   "id": "a14972cc",
   "metadata": {
    "execution": {
     "iopub.execute_input": "2022-02-01T04:59:49.833042Z",
     "iopub.status.busy": "2022-02-01T04:59:49.832301Z",
     "iopub.status.idle": "2022-02-01T04:59:49.840013Z",
     "shell.execute_reply": "2022-02-01T04:59:49.840557Z",
     "shell.execute_reply.started": "2022-02-01T04:43:24.839249Z"
    },
    "papermill": {
     "duration": 0.037906,
     "end_time": "2022-02-01T04:59:49.840732",
     "exception": false,
     "start_time": "2022-02-01T04:59:49.802826",
     "status": "completed"
    },
    "tags": []
   },
   "outputs": [],
   "source": [
    "from sklearn.preprocessing import StandardScaler\n",
    "\n",
    "y_train = X_train['SalePrice']\n",
    "X_train = X_train.drop(\"SalePrice\", axis=1)\n",
    "\n",
    "def standardize_features(X):\n",
    "    scaler = StandardScaler()\n",
    "    return scaler.fit_transform(X)"
   ]
  },
  {
   "cell_type": "code",
   "execution_count": 21,
   "id": "c0108e67",
   "metadata": {
    "execution": {
     "iopub.execute_input": "2022-02-01T04:59:49.902236Z",
     "iopub.status.busy": "2022-02-01T04:59:49.897443Z",
     "iopub.status.idle": "2022-02-01T04:59:49.909879Z",
     "shell.execute_reply": "2022-02-01T04:59:49.909213Z",
     "shell.execute_reply.started": "2022-02-01T04:43:24.857328Z"
    },
    "papermill": {
     "duration": 0.042202,
     "end_time": "2022-02-01T04:59:49.910021",
     "exception": false,
     "start_time": "2022-02-01T04:59:49.867819",
     "status": "completed"
    },
    "tags": []
   },
   "outputs": [],
   "source": [
    "continuous_features.remove(\"SalePrice\")\n",
    "X_train[continuous_features] = standardize_features(X_train[continuous_features])"
   ]
  },
  {
   "cell_type": "code",
   "execution_count": 22,
   "id": "d6beaa7f",
   "metadata": {
    "execution": {
     "iopub.execute_input": "2022-02-01T04:59:49.971194Z",
     "iopub.status.busy": "2022-02-01T04:59:49.970424Z",
     "iopub.status.idle": "2022-02-01T04:59:49.998187Z",
     "shell.execute_reply": "2022-02-01T04:59:49.997506Z",
     "shell.execute_reply.started": "2022-02-01T04:43:24.87547Z"
    },
    "papermill": {
     "duration": 0.061522,
     "end_time": "2022-02-01T04:59:49.998327",
     "exception": false,
     "start_time": "2022-02-01T04:59:49.936805",
     "status": "completed"
    },
    "tags": []
   },
   "outputs": [
    {
     "data": {
      "text/html": [
       "<div>\n",
       "<style scoped>\n",
       "    .dataframe tbody tr th:only-of-type {\n",
       "        vertical-align: middle;\n",
       "    }\n",
       "\n",
       "    .dataframe tbody tr th {\n",
       "        vertical-align: top;\n",
       "    }\n",
       "\n",
       "    .dataframe thead th {\n",
       "        text-align: right;\n",
       "    }\n",
       "</style>\n",
       "<table border=\"1\" class=\"dataframe\">\n",
       "  <thead>\n",
       "    <tr style=\"text-align: right;\">\n",
       "      <th></th>\n",
       "      <th>MSSubClass</th>\n",
       "      <th>LotFrontage</th>\n",
       "      <th>LotArea</th>\n",
       "      <th>OverallQual</th>\n",
       "      <th>OverallCond</th>\n",
       "      <th>YearBuilt</th>\n",
       "      <th>YearRemodAdd</th>\n",
       "      <th>MasVnrArea</th>\n",
       "      <th>BsmtFinSF1</th>\n",
       "      <th>BsmtFinSF2</th>\n",
       "      <th>...</th>\n",
       "      <th>GarageArea</th>\n",
       "      <th>WoodDeckSF</th>\n",
       "      <th>OpenPorchSF</th>\n",
       "      <th>EnclosedPorch</th>\n",
       "      <th>3SsnPorch</th>\n",
       "      <th>ScreenPorch</th>\n",
       "      <th>PoolArea</th>\n",
       "      <th>MiscVal</th>\n",
       "      <th>MoSold</th>\n",
       "      <th>YrSold</th>\n",
       "    </tr>\n",
       "  </thead>\n",
       "  <tbody>\n",
       "    <tr>\n",
       "      <th>0</th>\n",
       "      <td>0.412653</td>\n",
       "      <td>-0.165484</td>\n",
       "      <td>-0.042177</td>\n",
       "      <td>0.652641</td>\n",
       "      <td>-0.534267</td>\n",
       "      <td>-1.053818</td>\n",
       "      <td>-0.869941</td>\n",
       "      <td>1.290955</td>\n",
       "      <td>0.644729</td>\n",
       "      <td>0.0</td>\n",
       "      <td>...</td>\n",
       "      <td>0.421310</td>\n",
       "      <td>-0.775711</td>\n",
       "      <td>0.604457</td>\n",
       "      <td>0.0</td>\n",
       "      <td>0.0</td>\n",
       "      <td>0.0</td>\n",
       "      <td>0.0</td>\n",
       "      <td>0.0</td>\n",
       "      <td>-1.599111</td>\n",
       "      <td>0.138777</td>\n",
       "    </tr>\n",
       "    <tr>\n",
       "      <th>1</th>\n",
       "      <td>-1.008276</td>\n",
       "      <td>0.807561</td>\n",
       "      <td>0.255119</td>\n",
       "      <td>-0.077517</td>\n",
       "      <td>-0.534267</td>\n",
       "      <td>-0.170888</td>\n",
       "      <td>0.390141</td>\n",
       "      <td>-0.595110</td>\n",
       "      <td>1.287800</td>\n",
       "      <td>0.0</td>\n",
       "      <td>...</td>\n",
       "      <td>-0.020480</td>\n",
       "      <td>2.022812</td>\n",
       "      <td>-0.811305</td>\n",
       "      <td>0.0</td>\n",
       "      <td>0.0</td>\n",
       "      <td>0.0</td>\n",
       "      <td>0.0</td>\n",
       "      <td>0.0</td>\n",
       "      <td>-0.489110</td>\n",
       "      <td>-0.614439</td>\n",
       "    </tr>\n",
       "    <tr>\n",
       "      <th>2</th>\n",
       "      <td>0.412653</td>\n",
       "      <td>0.045721</td>\n",
       "      <td>0.624669</td>\n",
       "      <td>0.652641</td>\n",
       "      <td>-0.534267</td>\n",
       "      <td>-0.985900</td>\n",
       "      <td>-0.821476</td>\n",
       "      <td>0.963781</td>\n",
       "      <td>0.124597</td>\n",
       "      <td>0.0</td>\n",
       "      <td>...</td>\n",
       "      <td>0.722530</td>\n",
       "      <td>-0.775711</td>\n",
       "      <td>0.163482</td>\n",
       "      <td>0.0</td>\n",
       "      <td>0.0</td>\n",
       "      <td>0.0</td>\n",
       "      <td>0.0</td>\n",
       "      <td>0.0</td>\n",
       "      <td>0.990891</td>\n",
       "      <td>0.138777</td>\n",
       "    </tr>\n",
       "    <tr>\n",
       "      <th>3</th>\n",
       "      <td>0.767886</td>\n",
       "      <td>-0.539798</td>\n",
       "      <td>0.242952</td>\n",
       "      <td>0.652641</td>\n",
       "      <td>-0.534267</td>\n",
       "      <td>1.866644</td>\n",
       "      <td>0.632464</td>\n",
       "      <td>-0.595110</td>\n",
       "      <td>-0.513745</td>\n",
       "      <td>0.0</td>\n",
       "      <td>...</td>\n",
       "      <td>0.893222</td>\n",
       "      <td>-0.775711</td>\n",
       "      <td>0.001017</td>\n",
       "      <td>0.0</td>\n",
       "      <td>0.0</td>\n",
       "      <td>0.0</td>\n",
       "      <td>0.0</td>\n",
       "      <td>0.0</td>\n",
       "      <td>-1.599111</td>\n",
       "      <td>-1.367655</td>\n",
       "    </tr>\n",
       "    <tr>\n",
       "      <th>4</th>\n",
       "      <td>0.412653</td>\n",
       "      <td>1.036585</td>\n",
       "      <td>1.177100</td>\n",
       "      <td>1.382798</td>\n",
       "      <td>-0.534267</td>\n",
       "      <td>-0.951941</td>\n",
       "      <td>-0.724547</td>\n",
       "      <td>2.772863</td>\n",
       "      <td>0.524153</td>\n",
       "      <td>0.0</td>\n",
       "      <td>...</td>\n",
       "      <td>1.867168</td>\n",
       "      <td>1.027364</td>\n",
       "      <td>1.138269</td>\n",
       "      <td>0.0</td>\n",
       "      <td>0.0</td>\n",
       "      <td>0.0</td>\n",
       "      <td>0.0</td>\n",
       "      <td>0.0</td>\n",
       "      <td>2.100892</td>\n",
       "      <td>0.138777</td>\n",
       "    </tr>\n",
       "  </tbody>\n",
       "</table>\n",
       "<p>5 rows × 29 columns</p>\n",
       "</div>"
      ],
      "text/plain": [
       "   MSSubClass  LotFrontage   LotArea  OverallQual  OverallCond  YearBuilt  \\\n",
       "0    0.412653    -0.165484 -0.042177     0.652641    -0.534267  -1.053818   \n",
       "1   -1.008276     0.807561  0.255119    -0.077517    -0.534267  -0.170888   \n",
       "2    0.412653     0.045721  0.624669     0.652641    -0.534267  -0.985900   \n",
       "3    0.767886    -0.539798  0.242952     0.652641    -0.534267   1.866644   \n",
       "4    0.412653     1.036585  1.177100     1.382798    -0.534267  -0.951941   \n",
       "\n",
       "   YearRemodAdd  MasVnrArea  BsmtFinSF1  BsmtFinSF2  ...  GarageArea  \\\n",
       "0     -0.869941    1.290955    0.644729         0.0  ...    0.421310   \n",
       "1      0.390141   -0.595110    1.287800         0.0  ...   -0.020480   \n",
       "2     -0.821476    0.963781    0.124597         0.0  ...    0.722530   \n",
       "3      0.632464   -0.595110   -0.513745         0.0  ...    0.893222   \n",
       "4     -0.724547    2.772863    0.524153         0.0  ...    1.867168   \n",
       "\n",
       "   WoodDeckSF  OpenPorchSF  EnclosedPorch  3SsnPorch  ScreenPorch  PoolArea  \\\n",
       "0   -0.775711     0.604457            0.0        0.0          0.0       0.0   \n",
       "1    2.022812    -0.811305            0.0        0.0          0.0       0.0   \n",
       "2   -0.775711     0.163482            0.0        0.0          0.0       0.0   \n",
       "3   -0.775711     0.001017            0.0        0.0          0.0       0.0   \n",
       "4    1.027364     1.138269            0.0        0.0          0.0       0.0   \n",
       "\n",
       "   MiscVal    MoSold    YrSold  \n",
       "0      0.0 -1.599111  0.138777  \n",
       "1      0.0 -0.489110 -0.614439  \n",
       "2      0.0  0.990891  0.138777  \n",
       "3      0.0 -1.599111 -1.367655  \n",
       "4      0.0  2.100892  0.138777  \n",
       "\n",
       "[5 rows x 29 columns]"
      ]
     },
     "execution_count": 22,
     "metadata": {},
     "output_type": "execute_result"
    }
   ],
   "source": [
    "X_train[continuous_features].head()"
   ]
  }
 ],
 "metadata": {
  "kernelspec": {
   "display_name": "Python 3",
   "language": "python",
   "name": "python3"
  },
  "language_info": {
   "codemirror_mode": {
    "name": "ipython",
    "version": 3
   },
   "file_extension": ".py",
   "mimetype": "text/x-python",
   "name": "python",
   "nbconvert_exporter": "python",
   "pygments_lexer": "ipython3",
   "version": "3.7.12"
  },
  "papermill": {
   "default_parameters": {},
   "duration": 15.746164,
   "end_time": "2022-02-01T04:59:50.736767",
   "environment_variables": {},
   "exception": null,
   "input_path": "__notebook__.ipynb",
   "output_path": "__notebook__.ipynb",
   "parameters": {},
   "start_time": "2022-02-01T04:59:34.990603",
   "version": "2.3.3"
  }
 },
 "nbformat": 4,
 "nbformat_minor": 5
}
